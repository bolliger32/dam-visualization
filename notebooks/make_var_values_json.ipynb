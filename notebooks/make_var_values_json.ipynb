{
 "cells": [
  {
   "cell_type": "code",
   "execution_count": 17,
   "metadata": {
    "collapsed": true
   },
   "outputs": [],
   "source": [
    "import json\n",
    "import pandas as pd"
   ]
  },
  {
   "cell_type": "code",
   "execution_count": 18,
   "metadata": {
    "collapsed": true
   },
   "outputs": [],
   "source": [
    "with open('../dam_viz/assets/data/dams.geojson') as f:\n",
    "    in_json = json.load(f)\n",
    "    in_ftrs = in_json['features']"
   ]
  },
  {
   "cell_type": "code",
   "execution_count": 19,
   "metadata": {
    "collapsed": true
   },
   "outputs": [],
   "source": [
    "ftr1 = in_ftrs[0]\n",
    "prop1 = ftr1['properties']\n",
    "var_names = prop1.keys()"
   ]
  },
  {
   "cell_type": "code",
   "execution_count": 20,
   "metadata": {},
   "outputs": [],
   "source": [
    "types = {}\n",
    "vals = {}\n",
    "to_skip = ['Url_Address','NID_ID','key']\n",
    "for v in prop1:\n",
    "    if v not in to_skip:\n",
    "        types[v] = type(prop1[v])\n",
    "        if prop1[v] == None:\n",
    "            ix = 1\n",
    "            varval = None\n",
    "            while varval == None and ix < len(in_ftrs):\n",
    "                varval = in_ftrs[ix]['properties'][v]\n",
    "                ix+=1\n",
    "            types[v] = type(varval)\n",
    "\n",
    "\n",
    "        if v == 'All_Purposes':\n",
    "            types[v] = 'categorical'\n",
    "            tmp = [i['properties'][v] for i in in_ftrs]\n",
    "            tmp = [str(i).split(', ') for i in tmp]\n",
    "            vals[v] = list(set([item for sublist in tmp for item in sublist]))\n",
    "        elif types[v] == str:\n",
    "            vals[v] = list(set([i['properties'][v] for i in in_ftrs]))\n",
    "        elif types[v] in [float,int]:\n",
    "            vals[v] = []\n",
    "            tmp = [i['properties'][v] for i in in_ftrs if i['properties'][v] != None]\n",
    "            vals[v].append(min(tmp))\n",
    "            vals[v].append(max(tmp))\n",
    "            \n",
    "        for i in vals[v]:\n",
    "            if vals[v] == None: vals[v] = \"unlabled\"\n",
    "            \n",
    "        types[v] = str(types[v])[8:-2]\n",
    "\n",
    "types['All_Purposes'] = 'multiple'\n",
    "types['Dam_Name'] = 'open_text'\n",
    "types['Owner_Name'] = 'open_text'\n",
    "types['River'] = 'open_text'\n",
    "\n",
    "del types['Submit_Date']\n",
    "del vals['Submit_Date']"
   ]
  },
  {
   "cell_type": "code",
   "execution_count": 21,
   "metadata": {
    "collapsed": true
   },
   "outputs": [],
   "source": [
    "out_json = {\n",
    "    'types':types,\n",
    "    'vals':vals\n",
    "}"
   ]
  },
  {
   "cell_type": "code",
   "execution_count": 22,
   "metadata": {},
   "outputs": [
    {
     "data": {
      "text/plain": [
       "['Timber Crib',\n",
       " 'Other',\n",
       " 'Concrete',\n",
       " None,\n",
       " 'Multi-Arch',\n",
       " 'Gravity',\n",
       " 'Rockfill',\n",
       " 'Earth',\n",
       " 'RCC',\n",
       " 'Arch',\n",
       " 'Masonry',\n",
       " 'Buttress',\n",
       " 'Stone']"
      ]
     },
     "execution_count": 22,
     "metadata": {},
     "output_type": "execute_result"
    }
   ],
   "source": [
    "out_json['vals']['Dam_Type'][]"
   ]
  },
  {
   "cell_type": "code",
   "execution_count": 79,
   "metadata": {
    "collapsed": true
   },
   "outputs": [],
   "source": [
    "with open('../dam_viz/assets/data/filterText.json','w') as f:\n",
    "    json.dump(out_json,f)"
   ]
  }
 ],
 "metadata": {
  "anaconda-cloud": {},
  "kernelspec": {
   "display_name": "Python 3",
   "language": "python",
   "name": "python3"
  },
  "language_info": {
   "codemirror_mode": {
    "name": "ipython",
    "version": 3
   },
   "file_extension": ".py",
   "mimetype": "text/x-python",
   "name": "python",
   "nbconvert_exporter": "python",
   "pygments_lexer": "ipython3",
   "version": "3.5.3"
  },
  "latex_envs": {
   "LaTeX_envs_menu_present": true,
   "bibliofile": "biblio.bib",
   "cite_by": "apalike",
   "current_citInitial": 1,
   "eqLabelWithNumbers": true,
   "eqNumInitial": 1,
   "hotkeys": {
    "equation": "Ctrl-E",
    "itemize": "Ctrl-I"
   },
   "labels_anchors": false,
   "latex_user_defs": false,
   "report_style_numbering": false,
   "user_envs_cfg": false
  }
 },
 "nbformat": 4,
 "nbformat_minor": 2
}
